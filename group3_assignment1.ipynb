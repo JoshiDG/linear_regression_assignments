{
 "cells": [
  {
   "cell_type": "code",
   "execution_count": 20,
   "id": "0af16b1b",
   "metadata": {},
   "outputs": [
    {
     "name": "stdout",
     "output_type": "stream",
     "text": [
      "*\n",
      "**\n",
      "***\n",
      "****\n",
      "*****\n",
      "****\n",
      "***\n",
      "**\n",
      "*\n"
     ]
    }
   ],
   "source": [
    "i = 1\n",
    "\n",
    "while i <= 5:\n",
    "    print('*' * i)\n",
    "    i = i +1\n",
    "i = i - 2\n",
    "while i > 0:\n",
    "    print('*' * i)\n",
    "    i = i - 1"
   ]
  },
  {
   "cell_type": "code",
   "execution_count": 19,
   "metadata": {},
   "outputs": [
    {
     "name": "stdout",
     "output_type": "stream",
     "text": [
      "*\n",
      "**\n",
      "***\n",
      "****\n",
      "*****\n",
      "*****\n",
      "****\n",
      "***\n",
      "**\n"
     ]
    }
   ],
   "source": [
    "a = 5\n",
    "for i in (range(a)):\n",
    "    for j in (range(i+1)):\n",
    "        print(\"*\",end='')\n",
    "    print(\"\")\n",
    "for i in (range(a-1,0,-1)):\n",
    "    for j in (range(i+1)):\n",
    "        print(\"*\",end='')\n",
    "    print(\"\")\n"
   ]
  }
 ],
 "metadata": {
  "interpreter": {
   "hash": "972fa1ed0e0d12e7fe2af04b314c9ece5336e942f96fff24bc59ca72f2ab343a"
  },
  "kernelspec": {
   "display_name": "Python 3.8.8 64-bit ('base': conda)",
   "name": "python3"
  },
  "language_info": {
   "codemirror_mode": {
    "name": "ipython",
    "version": 3
   },
   "file_extension": ".py",
   "mimetype": "text/x-python",
   "name": "python",
   "nbconvert_exporter": "python",
   "pygments_lexer": "ipython3",
   "version": "3.8.8"
  }
 },
 "nbformat": 4,
 "nbformat_minor": 5
}
